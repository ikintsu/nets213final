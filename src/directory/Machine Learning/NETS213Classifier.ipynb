{
  "nbformat": 4,
  "nbformat_minor": 0,
  "metadata": {
    "colab": {
      "name": "NETS213Classifier.ipynb",
      "provenance": [],
      "collapsed_sections": [],
      "toc_visible": true
    },
    "kernelspec": {
      "name": "python3",
      "display_name": "Python 3"
    },
    "language_info": {
      "name": "python"
    }
  },
  "cells": [
    {
      "cell_type": "markdown",
      "metadata": {
        "id": "OiFDDuPRNYLT"
      },
      "source": [
        "#Classifier for Articles\n",
        "\n",
        "Need to make final output csv to feed into the model, then need time to finalize model. Prototype is given below."
      ]
    },
    {
      "cell_type": "code",
      "metadata": {
        "id": "24pf_B9QM6_k",
        "colab": {
          "base_uri": "https://localhost:8080/"
        },
        "outputId": "26da1e4b-dcbd-47bb-e745-8db1bf589ba2"
      },
      "source": [
        "from google.colab import drive\n",
        "drive.mount('/content/drive')"
      ],
      "execution_count": null,
      "outputs": [
        {
          "output_type": "stream",
          "text": [
            "Drive already mounted at /content/drive; to attempt to forcibly remount, call drive.mount(\"/content/drive\", force_remount=True).\n"
          ],
          "name": "stdout"
        }
      ]
    },
    {
      "cell_type": "code",
      "metadata": {
        "id": "Y-5dYBBfI4XO",
        "colab": {
          "base_uri": "https://localhost:8080/",
          "height": 17
        },
        "outputId": "9e9a82dd-5ccd-45d4-e4de-c06fbba7bb83"
      },
      "source": [
        "import cufflinks as cf\n",
        "cf.go_offline()\n",
        "cf.set_config_file(offline=False, world_readable=True)"
      ],
      "execution_count": null,
      "outputs": [
        {
          "output_type": "display_data",
          "data": {
            "text/html": [
              "        <script type=\"text/javascript\">\n",
              "        window.PlotlyConfig = {MathJaxConfig: 'local'};\n",
              "        if (window.MathJax) {MathJax.Hub.Config({SVG: {font: \"STIX-Web\"}});}\n",
              "        if (typeof require !== 'undefined') {\n",
              "        require.undef(\"plotly\");\n",
              "        requirejs.config({\n",
              "            paths: {\n",
              "                'plotly': ['https://cdn.plot.ly/plotly-latest.min']\n",
              "            }\n",
              "        });\n",
              "        require(['plotly'], function(Plotly) {\n",
              "            window._Plotly = Plotly;\n",
              "        });\n",
              "        }\n",
              "        </script>\n",
              "        "
            ]
          },
          "metadata": {
            "tags": []
          }
        }
      ]
    },
    {
      "cell_type": "code",
      "metadata": {
        "id": "YSuk3cy8JYNE"
      },
      "source": [
        "import pandas as pd\n",
        "df1 = pd.read_csv('/content/drive/MyDrive/fullMajority.csv')\n",
        "df2 = pd.read_csv('/content/drive/MyDrive/turkall2_text.csv')\n",
        "df = pd.merge(df1, df2, left_on='article_id', right_on='url')"
      ],
      "execution_count": null,
      "outputs": []
    },
    {
      "cell_type": "code",
      "metadata": {
        "id": "sLTVe5gVuIXB"
      },
      "source": [
        "pd.DataFrame(df, columns=[\"article_id\", \"text\", \"Hate_Crime\", \"Reference_Hate\"]).to_csv('fullWithText.csv', index=False)"
      ],
      "execution_count": null,
      "outputs": []
    },
    {
      "cell_type": "code",
      "metadata": {
        "id": "m8uEvDGqJGyw"
      },
      "source": [
        "#read in raw data from file and return a list of (label, article) tuples\n",
        "def get_data(filename): \n",
        "\tdata = [line.strip().split('\\t') for line in open(filename).readlines()]\n",
        "\trandom.shuffle(data)\n",
        "\treturn data"
      ],
      "execution_count": null,
      "outputs": []
    },
    {
      "cell_type": "code",
      "metadata": {
        "id": "d4ZP2AE5H__9"
      },
      "source": [
        "import pandas as pd\n",
        "import numpy as np\n",
        "from sklearn.model_selection import train_test_split\n",
        "from sklearn.naive_bayes import GaussianNB\n",
        "\n",
        "from plotly.offline import download_plotlyjs, init_notebook_mode, plot, iplot\n",
        "\n",
        "df = pd.read_csv(\"/content/drive/MyDrive/NETS213fullWithText - fullWithText.csv\")\n",
        "ogLen = len(df)\n",
        "dfANS = pd.read_csv(\"/content/testingDataFinal.csv\")\n",
        "df = df.append(dfANS)\n",
        "nX = df[\"text\"]\n",
        "ny = df[\"Hate_Crime\"]\n",
        "headers = []\n",
        "labels = []\n",
        "for i in nX:\n",
        "  headers.append(i)\n",
        "\n",
        "for i in ny:\n",
        "  labels.append(i)\n",
        "\n",
        "X = np.array(headers)\n",
        "y = np.array(labels)"
      ],
      "execution_count": null,
      "outputs": []
    },
    {
      "cell_type": "code",
      "metadata": {
        "id": "Se3dMHEWNFOZ",
        "colab": {
          "base_uri": "https://localhost:8080/",
          "height": 404
        },
        "outputId": "4bf90e9d-72fe-4fc3-ffa7-961f04541427"
      },
      "source": [
        "import matplotlib.pyplot as plt\n",
        "fig = plt.figure(figsize=(8,6))\n",
        "df.groupby('Hate_Crime').text.count().plot.bar(ylim=0)\n",
        "plt.show()"
      ],
      "execution_count": null,
      "outputs": [
        {
          "output_type": "display_data",
          "data": {
            "image/png": "[encoded data removed]",
            "text/plain": [
              "<Figure size 576x432 with 1 Axes>"
            ]
          },
          "metadata": {
            "tags": [],
            "needs_background": "light"
          }
        }
      ]
    },
    {
      "cell_type": "code",
      "metadata": {
        "id": "_FSbGHtaNPWN",
        "colab": {
          "base_uri": "https://localhost:8080/",
          "height": 204
        },
        "outputId": "adbd19bd-531e-49b2-efac-eceec846fca9"
      },
      "source": [
        "from sklearn.feature_selection import chi2\n",
        "import numpy as np\n",
        "\n",
        "df = df[['text', 'Reference_Hate']]\n",
        "category_id_df = df[['text', 'Reference_Hate']].drop_duplicates().sort_values('Reference_Hate')\n",
        "category_to_id = dict(category_id_df.values)\n",
        "id_to_category = dict(category_id_df[['Reference_Hate', 'text']].values)\n",
        "df.head()"
      ],
      "execution_count": null,
      "outputs": [
        {
          "output_type": "execute_result",
          "data": {
            "text/html": [
              "<div>\n",
              "<style scoped>\n",
              "    .dataframe tbody tr th:only-of-type {\n",
              "        vertical-align: middle;\n",
              "    }\n",
              "\n",
              "    .dataframe tbody tr th {\n",
              "        vertical-align: top;\n",
              "    }\n",
              "\n",
              "    .dataframe thead th {\n",
              "        text-align: right;\n",
              "    }\n",
              "</style>\n",
              "<table border=\"1\" class=\"dataframe\">\n",
              "  <thead>\n",
              "    <tr style=\"text-align: right;\">\n",
              "      <th></th>\n",
              "      <th>text</th>\n",
              "      <th>Reference_Hate</th>\n",
              "    </tr>\n",
              "  </thead>\n",
              "  <tbody>\n",
              "    <tr>\n",
              "      <th>0</th>\n",
              "      <td>rice lake wi   a gay employee of applebees in ...</td>\n",
              "      <td>False</td>\n",
              "    </tr>\n",
              "    <tr>\n",
              "      <th>1</th>\n",
              "      <td>heard the news if you only consume the mainstr...</td>\n",
              "      <td>False</td>\n",
              "    </tr>\n",
              "    <tr>\n",
              "      <th>2</th>\n",
              "      <td>cayer matches his teaching style to the energy...</td>\n",
              "      <td>False</td>\n",
              "    </tr>\n",
              "    <tr>\n",
              "      <th>3</th>\n",
              "      <td>get  off of the regular  annual all access rat...</td>\n",
              "      <td>False</td>\n",
              "    </tr>\n",
              "    <tr>\n",
              "      <th>4</th>\n",
              "      <td>the fauquier times is honored to serve as your...</td>\n",
              "      <td>False</td>\n",
              "    </tr>\n",
              "  </tbody>\n",
              "</table>\n",
              "</div>"
            ],
            "text/plain": [
              "                                                text  Reference_Hate\n",
              "0  rice lake wi   a gay employee of applebees in ...           False\n",
              "1  heard the news if you only consume the mainstr...           False\n",
              "2  cayer matches his teaching style to the energy...           False\n",
              "3  get  off of the regular  annual all access rat...           False\n",
              "4  the fauquier times is honored to serve as your...           False"
            ]
          },
          "metadata": {
            "tags": []
          },
          "execution_count": 78
        }
      ]
    },
    {
      "cell_type": "code",
      "metadata": {
        "id": "YoyWnNAfNTxP",
        "colab": {
          "base_uri": "https://localhost:8080/"
        },
        "outputId": "b4d4a5d5-178b-4a68-d947-30962e3a54e6"
      },
      "source": [
        "from sklearn.feature_extraction.text import TfidfVectorizer\n",
        "tfidf = TfidfVectorizer(sublinear_tf=True, min_df=5, norm='l2', encoding='latin-1', ngram_range=(1, 2), stop_words='english')\n",
        "# pd.DataFrame(df.text, columns=[\"article_id\", \"text\", \"Hate_Crime\", \"Reference_Hate\"]).to_csv('fsadkjfsa.csv', index=False)\n",
        "\n",
        "featuresSuper = tfidf.fit_transform(df.text).toarray()\n",
        "features = featuresSuper[:ogLen]\n",
        "featuresTest = featuresSuper[-len(dfANS):]\n",
        "\n",
        "print((featuresTest).shape)\n",
        "\n",
        "labelsSuper = df.Hate_Crime\n",
        "labels = labelsSuper.head(ogLen)\n",
        "labelsTest = labelsSuper.tail(len(dfANS))"
      ],
      "execution_count": null,
      "outputs": [
        {
          "output_type": "stream",
          "text": [
            "(149, 4546)\n"
          ],
          "name": "stdout"
        }
      ]
    },
    {
      "cell_type": "code",
      "metadata": {
        "id": "d4Nfsk0ENVCZ"
      },
      "source": [
        "from sklearn.feature_selection import chi2\n",
        "import numpy as np\n",
        "N = 2\n",
        "for Product, category_id in sorted(category_to_id.items()):\n",
        "  features_chi2 = chi2(features, labels == category_id)\n",
        "  indices = np.argsort(features_chi2[0])\n",
        "  feature_names = np.array(tfidf.get_feature_names())[indices]\n",
        "  unigrams = [v for v in feature_names if len(v.split(' ')) == 1]\n",
        "  bigrams = [v for v in feature_names if len(v.split(' ')) == 2]\n",
        "  print(\"# '{}':\".format(Product))\n",
        "  print(\"  . Most correlated unigrams:\\n. {}\".format('\\n. '.join(unigrams[-N:])))\n",
        "  print(\"  . Most correlated bigrams:\\n. {}\".format('\\n. '.join(bigrams[-N:])))"
      ],
      "execution_count": null,
      "outputs": []
    },
    {
      "cell_type": "code",
      "metadata": {
        "id": "6-yl8SLkNXBV",
        "colab": {
          "base_uri": "https://localhost:8080/",
          "height": 406
        },
        "outputId": "07d2fccf-0e0f-4711-cf90-6c91d30598f5"
      },
      "source": [
        "from sklearn.linear_model import LogisticRegression\n",
        "from sklearn.naive_bayes import MultinomialNB\n",
        "from sklearn.ensemble import RandomForestClassifier\n",
        "from sklearn.svm import LinearSVC\n",
        "from sklearn.model_selection import cross_val_score\n",
        "from sklearn.svm import SVC\n",
        "models = [\n",
        "    RandomForestClassifier(n_estimators=200, random_state=0),\n",
        "    LinearSVC(),\n",
        "    MultinomialNB(),\n",
        "    LogisticRegression(random_state=0),\n",
        "    # SVC(C=1.0, kernel='linear', degree=3, gamma='auto'),\n",
        "]\n",
        "CV = 5\n",
        "cv_df = pd.DataFrame(index=range(CV * len(models)))\n",
        "entries = []\n",
        "for model in models:\n",
        "  model_name = model.__class__.__name__\n",
        "  accuracies = cross_val_score(model, features, labels, scoring='accuracy', cv=CV)\n",
        "  for fold_idx, accuracy in enumerate(accuracies):\n",
        "    entries.append((model_name, fold_idx, accuracy))\n",
        "cv_df = pd.DataFrame(entries, columns=['model_name', 'fold_idx', 'accuracy'])\n",
        "import seaborn as sns\n",
        "chart = sns.boxplot(x='model_name', y='accuracy', data=cv_df)\n",
        "chart.set_xticklabels(chart.get_xticklabels(),rotation=30)\n",
        "# sns.stripplot(x='model_name', y='accuracy', data=cv_df, \n",
        "#               size=8, jitter=True, edgecolor=\"gray\", linewidth=2)\n",
        "\n",
        "\n",
        "# plt.show()"
      ],
      "execution_count": null,
      "outputs": [
        {
          "output_type": "execute_result",
          "data": {
            "text/plain": [
              "[Text(0, 0, 'RandomForestClassifier'),\n",
              " Text(0, 0, 'LinearSVC'),\n",
              " Text(0, 0, 'MultinomialNB'),\n",
              " Text(0, 0, 'LogisticRegression')]"
            ]
          },
          "metadata": {
            "tags": []
          },
          "execution_count": 145
        },
        {
          "output_type": "display_data",
          "data": {
            "image/png": "[encoded data removed]",
            "text/plain": [
              "<Figure size 432x288 with 1 Axes>"
            ]
          },
          "metadata": {
            "tags": [],
            "needs_background": "light"
          }
        }
      ]
    },
    {
      "cell_type": "code",
      "metadata": {
        "colab": {
          "base_uri": "https://localhost:8080/",
          "height": 406
        },
        "id": "op1g4l38KJMf",
        "outputId": "5757be40-335a-46bd-ad81-03d3fc86ac8b"
      },
      "source": [
        "\n",
        "chart = sns.boxplot(x='model_name', y='accuracy', data=cv_df)\n",
        "chart.set_xticklabels(chart.get_xticklabels(),rotation=30)"
      ],
      "execution_count": null,
      "outputs": [
        {
          "output_type": "execute_result",
          "data": {
            "text/plain": [
              "[Text(0, 0, 'RandomForestClassifier'),\n",
              " Text(0, 0, 'LinearSVC'),\n",
              " Text(0, 0, 'MultinomialNB'),\n",
              " Text(0, 0, 'LogisticRegression')]"
            ]
          },
          "metadata": {
            "tags": []
          },
          "execution_count": 146
        },
        {
          "output_type": "display_data",
          "data": {
            "image/png": "[encoded data removed]",
            "text/plain": [
              "<Figure size 432x288 with 1 Axes>"
            ]
          },
          "metadata": {
            "tags": [],
            "needs_background": "light"
          }
        }
      ]
    },
    {
      "cell_type": "code",
      "metadata": {
        "id": "XGqs3x4eWKO-"
      },
      "source": [
        "testfile = \"/content/testingData - save2_text (1).csv\"\n",
        "df3 = pd.read_csv(testfile)['text']\n",
        "models[3].fit(features,labels)\n",
        "\n",
        "y_pred = models[3].predict(featuresTest)"
      ],
      "execution_count": null,
      "outputs": []
    },
    {
      "cell_type": "code",
      "metadata": {
        "colab": {
          "base_uri": "https://localhost:8080/"
        },
        "id": "uVfGIqJk8yfd",
        "outputId": "4bb5213a-21c4-479b-9eac-d172c5e05e55"
      },
      "source": [
        "import torch \n",
        "from sklearn.metrics import classification_report, confusion_matrix\n",
        "print(confusion_matrix(labelsTest, y_pred))\n",
        "print(classification_report(labelsTest, y_pred))\n",
        "# torch.save(model.state_dict(), '/content/drive/MyDrive/model')"
      ],
      "execution_count": null,
      "outputs": [
        {
          "output_type": "stream",
          "text": [
            "[[132   0]\n",
            " [ 17   0]]\n",
            "              precision    recall  f1-score   support\n",
            "\n",
            "       False       0.89      1.00      0.94       132\n",
            "        True       0.00      0.00      0.00        17\n",
            "\n",
            "    accuracy                           0.89       149\n",
            "   macro avg       0.44      0.50      0.47       149\n",
            "weighted avg       0.78      0.89      0.83       149\n",
            "\n"
          ],
          "name": "stdout"
        },
        {
          "output_type": "stream",
          "text": [
            "/usr/local/lib/python3.7/dist-packages/sklearn/metrics/_classification.py:1272: UndefinedMetricWarning:\n",
            "\n",
            "Precision and F-score are ill-defined and being set to 0.0 in labels with no predicted samples. Use `zero_division` parameter to control this behavior.\n",
            "\n"
          ],
          "name": "stderr"
        }
      ]
    },
    {
      "cell_type": "code",
      "metadata": {
        "id": "8uUx8ewjw8Ep"
      },
      "source": [
        "import pickle\n",
        "cv_df.groupby('model_name').accuracy.mean()\n",
        "#For Downloading Model\n",
        "filename = 'logreg_real_ref.sav'\n",
        "pickle.dump(models[3], open(filename, 'wb'))"
      ],
      "execution_count": null,
      "outputs": []
    }
  ]
}