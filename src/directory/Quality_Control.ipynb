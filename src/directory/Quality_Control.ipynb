{
  "nbformat": 4,
  "nbformat_minor": 0,
  "metadata": {
    "colab": {
      "name": "Quality Control",
      "provenance": [],
      "collapsed_sections": []
    },
    "kernelspec": {
      "name": "python3",
      "display_name": "Python 3"
    },
    "language_info": {
      "name": "python"
    }
  },
  "cells": [
    {
      "cell_type": "code",
      "metadata": {
        "id": "1outanDkQqPR"
      },
      "source": [
        "\n",
        "import pandas as pd\n",
        "\n",
        "\n",
        "def majority_vote(mturk_res):\n",
        "    keep_cols = [\"Input.url\", \"Answer.asian_hate_crime\", \"Answer.reference_hate\"]\n",
        "\n",
        "    mturk_res = mturk_res[keep_cols]\n",
        "    data = {}\n",
        "    for index, row in mturk_res.iterrows():\n",
        "        attr_id = row['Input.url']\n",
        "        if attr_id not in data.keys():\n",
        "            data[attr_id] = {}\n",
        "\n",
        "        \n",
        "        answer1 = row[\"Answer.asian_hate_crime\"]\n",
        "        answer2 = row[\"Answer.reference_hate\"]\n",
        "\n",
        "        dict_of_atts = data[attr_id]\n",
        "        if attr_id not in dict_of_atts.keys():\n",
        "            dict_of_atts[attr_id] = {'hate': 0, 'no_hate': 0, 'ref': 0, 'no_ref':0}\n",
        "        if (answer1):\n",
        "          dict_of_atts[attr_id][\"hate\"] = dict_of_atts[attr_id][\"hate\"] + 1\n",
        "        else:\n",
        "          dict_of_atts[attr_id][\"no_hate\"] = dict_of_atts[attr_id][\"no_hate\"] + 1\n",
        "        if (answer2):\n",
        "          dict_of_atts[attr_id][\"ref\"] = dict_of_atts[attr_id][\"ref\"] + 1\n",
        "        else:\n",
        "          dict_of_atts[attr_id][\"no_ref\"] = dict_of_atts[attr_id][\"no_ref\"] + 1\n",
        "\n",
        "\n",
        "    out = []\n",
        "    for id in data.keys():\n",
        "        for adj in data[id].values():\n",
        "            yes_hate = adj[\"hate\"]\n",
        "            no_hate = adj[\"no_hate\"]\n",
        "            yes_ref = adj[\"ref\"]\n",
        "            no_ref = adj[\"no_ref\"]\n",
        "            if (yes_hate > no_hate):\n",
        "                if (yes_ref > no_ref):\n",
        "                  out.append((id, True, True))\n",
        "                else: \n",
        "                  out.append((id, True, False))\n",
        "            else:\n",
        "                if (yes_ref > no_ref):\n",
        "                  out.append((id, False, True))\n",
        "                else: \n",
        "                  out.append((id, False, False))\n",
        "                \n",
        "\n",
        "    return sorted(out)"
      ],
      "execution_count": null,
      "outputs": []
    },
    {
      "cell_type": "code",
      "metadata": {
        "id": "309_iZLJQymH"
      },
      "source": [
        "def main():\n",
        "    # Read in CVS result file with pandas\n",
        "\n",
        "    results = pd.read_csv('/content/drive/MyDrive/First Real HIT results.csv')\n",
        "\n",
        "    # output1.csv\n",
        "    pd.DataFrame(majority_vote(results), columns=[\"article_id\", \"Hate_Crime\", \"Reference_Hate\"]).to_csv('output.csv', index=False)\n",
        "  \n",
        "if __name__ == '__main__':\n",
        "    main()"
      ],
      "execution_count": null,
      "outputs": []
    }
  ]
}